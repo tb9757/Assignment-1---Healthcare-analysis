{
 "cells": [
  {
   "cell_type": "markdown",
   "id": "242d0ab6",
   "metadata": {},
   "source": [
    "# Exploratory Data Analysis\n",
    "\n",
    "First step is to import the necessary libraries then load my cleaned dataset"
   ]
  },
  {
   "cell_type": "code",
   "execution_count": 2,
   "id": "fc730a4f",
   "metadata": {},
   "outputs": [],
   "source": [
    "import numpy as np\n",
    "import pandas as pd \n",
    "import seaborn as sns\n",
    "import matplotlib.pyplot as plt\n",
    "import plotly.express as px"
   ]
  },
  {
   "cell_type": "markdown",
   "id": "9e904827",
   "metadata": {},
   "source": [
    "### load the cleaned dataset\n",
    "\n",
    "the datatypes established in the investiation jupyter notebook do not save when the cleaned csv is saved. I have provided them here in a dictionary so that they can be changed again when loaded here. "
   ]
  },
  {
   "cell_type": "code",
   "execution_count": 3,
   "id": "7ab01295",
   "metadata": {},
   "outputs": [
    {
     "data": {
      "application/vnd.microsoft.datawrangler.viewer.v0+json": {
       "columns": [
        {
         "name": "index",
         "rawType": "int64",
         "type": "integer"
        },
        {
         "name": "age",
         "rawType": "Int8",
         "type": "integer"
        },
        {
         "name": "sex",
         "rawType": "category",
         "type": "unknown"
        },
        {
         "name": "bmi",
         "rawType": "float64",
         "type": "float"
        },
        {
         "name": "children",
         "rawType": "category",
         "type": "unknown"
        },
        {
         "name": "smoker",
         "rawType": "category",
         "type": "unknown"
        },
        {
         "name": "region",
         "rawType": "category",
         "type": "unknown"
        },
        {
         "name": "charges",
         "rawType": "float64",
         "type": "float"
        },
        {
         "name": "region (N/S)",
         "rawType": "category",
         "type": "unknown"
        },
        {
         "name": "region (E/W)",
         "rawType": "category",
         "type": "unknown"
        },
        {
         "name": "bmi category",
         "rawType": "category",
         "type": "unknown"
        }
       ],
       "ref": "0ea30bcb-843b-4d0a-9782-5a28585b9de2",
       "rows": [
        [
         "0",
         "19",
         "female",
         "27.9",
         "0",
         "yes",
         "southwest",
         "16884.924",
         "south",
         "west",
         "overweight"
        ],
        [
         "1",
         "18",
         "male",
         "33.77",
         "1",
         "no",
         "southeast",
         "1725.5523",
         "south",
         "east",
         "obese"
        ],
        [
         "2",
         "28",
         "male",
         "33.0",
         "3",
         "no",
         "southeast",
         "4449.462",
         "south",
         "east",
         "obese"
        ],
        [
         "3",
         "33",
         "male",
         "22.705",
         "0",
         "no",
         "northwest",
         "21984.47061",
         "north",
         "west",
         "healthy weight"
        ],
        [
         "4",
         "32",
         "male",
         "28.88",
         "0",
         "no",
         "northwest",
         "3866.8552",
         "north",
         "west",
         "overweight"
        ],
        [
         "5",
         "31",
         "female",
         "25.74",
         "0",
         "no",
         "southeast",
         "3756.6216",
         "south",
         "east",
         "overweight"
        ],
        [
         "6",
         "46",
         "female",
         "33.44",
         "1",
         "no",
         "southeast",
         "8240.5896",
         "south",
         "east",
         "obese"
        ],
        [
         "7",
         "37",
         "female",
         "27.74",
         "3",
         "no",
         "northwest",
         "7281.5056",
         "north",
         "west",
         "overweight"
        ],
        [
         "8",
         "37",
         "male",
         "29.83",
         "2",
         "no",
         "northeast",
         "6406.4107",
         "north",
         "east",
         "overweight"
        ],
        [
         "9",
         "60",
         "female",
         "25.84",
         "0",
         "no",
         "northwest",
         "28923.13692",
         "north",
         "west",
         "overweight"
        ],
        [
         "10",
         "25",
         "male",
         "26.22",
         "0",
         "no",
         "northeast",
         "2721.3208",
         "north",
         "east",
         "overweight"
        ],
        [
         "11",
         "62",
         "female",
         "26.29",
         "0",
         "yes",
         "southeast",
         "27808.7251",
         "south",
         "east",
         "overweight"
        ],
        [
         "12",
         "23",
         "male",
         "34.4",
         "0",
         "no",
         "southwest",
         "1826.843",
         "south",
         "west",
         "obese"
        ],
        [
         "13",
         "56",
         "female",
         "39.82",
         "0",
         "no",
         "southeast",
         "11090.7178",
         "south",
         "east",
         "obese"
        ],
        [
         "14",
         "27",
         "male",
         "42.13",
         "0",
         "yes",
         "southeast",
         "39611.7577",
         "south",
         "east",
         "severely obese"
        ],
        [
         "15",
         "19",
         "male",
         "24.6",
         "1",
         "no",
         "southwest",
         "1837.237",
         "south",
         "west",
         "healthy weight"
        ],
        [
         "16",
         "52",
         "female",
         "30.78",
         "1",
         "no",
         "northeast",
         "10797.3362",
         "north",
         "east",
         "obese"
        ],
        [
         "17",
         "23",
         "male",
         "23.845",
         "0",
         "no",
         "northeast",
         "2395.17155",
         "north",
         "east",
         "healthy weight"
        ],
        [
         "18",
         "56",
         "male",
         "40.3",
         "0",
         "no",
         "southwest",
         "10602.385",
         "south",
         "west",
         "severely obese"
        ],
        [
         "19",
         "30",
         "male",
         "35.3",
         "0",
         "yes",
         "southwest",
         "36837.467",
         "south",
         "west",
         "obese"
        ],
        [
         "20",
         "60",
         "female",
         "36.005",
         "0",
         "no",
         "northeast",
         "13228.84695",
         "north",
         "east",
         "obese"
        ],
        [
         "21",
         "30",
         "female",
         "32.4",
         "1",
         "no",
         "southwest",
         "4149.736",
         "south",
         "west",
         "obese"
        ],
        [
         "22",
         "18",
         "male",
         "34.1",
         "0",
         "no",
         "southeast",
         "1137.011",
         "south",
         "east",
         "obese"
        ],
        [
         "23",
         "34",
         "female",
         "31.92",
         "1",
         "yes",
         "northeast",
         "37701.8768",
         "north",
         "east",
         "obese"
        ],
        [
         "24",
         "37",
         "male",
         "28.025",
         "2",
         "no",
         "northwest",
         "6203.90175",
         "north",
         "west",
         "overweight"
        ],
        [
         "25",
         "59",
         "female",
         "27.72",
         "3",
         "no",
         "southeast",
         "14001.1338",
         "south",
         "east",
         "overweight"
        ],
        [
         "26",
         "63",
         "female",
         "23.085",
         "0",
         "no",
         "northeast",
         "14451.83515",
         "north",
         "east",
         "healthy weight"
        ],
        [
         "27",
         "55",
         "female",
         "32.775",
         "2",
         "no",
         "northwest",
         "12268.63225",
         "north",
         "west",
         "obese"
        ],
        [
         "28",
         "23",
         "male",
         "17.385",
         "1",
         "no",
         "northwest",
         "2775.19215",
         "north",
         "west",
         "underweight"
        ],
        [
         "29",
         "31",
         "male",
         "36.3",
         "2",
         "yes",
         "southwest",
         "38711.0",
         "south",
         "west",
         "obese"
        ],
        [
         "30",
         "22",
         "male",
         "35.6",
         "0",
         "yes",
         "southwest",
         "35585.576",
         "south",
         "west",
         "obese"
        ],
        [
         "31",
         "18",
         "female",
         "26.315",
         "0",
         "no",
         "northeast",
         "2198.18985",
         "north",
         "east",
         "overweight"
        ],
        [
         "32",
         "19",
         "female",
         "28.6",
         "5",
         "no",
         "southwest",
         "4687.797",
         "south",
         "west",
         "overweight"
        ],
        [
         "33",
         "63",
         "male",
         "28.31",
         "0",
         "no",
         "northwest",
         "13770.0979",
         "north",
         "west",
         "overweight"
        ],
        [
         "34",
         "28",
         "male",
         "36.4",
         "1",
         "yes",
         "southwest",
         "51194.55914",
         "south",
         "west",
         "obese"
        ],
        [
         "35",
         "19",
         "male",
         "20.425",
         "0",
         "no",
         "northwest",
         "1625.43375",
         "north",
         "west",
         "healthy weight"
        ],
        [
         "36",
         "62",
         "female",
         "32.965",
         "3",
         "no",
         "northwest",
         "15612.19335",
         "north",
         "west",
         "obese"
        ],
        [
         "37",
         "26",
         "male",
         "20.8",
         "0",
         "no",
         "southwest",
         "2302.3",
         "south",
         "west",
         "healthy weight"
        ],
        [
         "38",
         "35",
         "male",
         "36.67",
         "1",
         "yes",
         "northeast",
         "39774.2763",
         "north",
         "east",
         "obese"
        ],
        [
         "39",
         "60",
         "male",
         "39.9",
         "0",
         "yes",
         "southwest",
         "48173.361",
         "south",
         "west",
         "obese"
        ],
        [
         "40",
         "24",
         "female",
         "26.6",
         "0",
         "no",
         "northeast",
         "3046.062",
         "north",
         "east",
         "overweight"
        ],
        [
         "41",
         "31",
         "female",
         "36.63",
         "2",
         "no",
         "southeast",
         "4949.7587",
         "south",
         "east",
         "obese"
        ],
        [
         "42",
         "41",
         "male",
         "21.78",
         "1",
         "no",
         "southeast",
         "6272.4772",
         "south",
         "east",
         "healthy weight"
        ],
        [
         "43",
         "37",
         "female",
         "30.8",
         "2",
         "no",
         "southeast",
         "6313.759",
         "south",
         "east",
         "obese"
        ],
        [
         "44",
         "38",
         "male",
         "37.05",
         "1",
         "no",
         "northeast",
         "6079.6715",
         "north",
         "east",
         "obese"
        ],
        [
         "45",
         "55",
         "male",
         "37.3",
         "0",
         "no",
         "southwest",
         "20630.28351",
         "south",
         "west",
         "obese"
        ],
        [
         "46",
         "18",
         "female",
         "38.665",
         "2",
         "no",
         "northeast",
         "3393.35635",
         "north",
         "east",
         "obese"
        ],
        [
         "47",
         "28",
         "female",
         "34.77",
         "0",
         "no",
         "northwest",
         "3556.9223",
         "north",
         "west",
         "obese"
        ],
        [
         "48",
         "60",
         "female",
         "24.53",
         "0",
         "no",
         "southeast",
         "12629.8967",
         "south",
         "east",
         "healthy weight"
        ],
        [
         "49",
         "36",
         "male",
         "35.2",
         "1",
         "yes",
         "southeast",
         "38709.176",
         "south",
         "east",
         "obese"
        ]
       ],
       "shape": {
        "columns": 10,
        "rows": 1338
       }
      },
      "text/html": [
       "<div>\n",
       "<style scoped>\n",
       "    .dataframe tbody tr th:only-of-type {\n",
       "        vertical-align: middle;\n",
       "    }\n",
       "\n",
       "    .dataframe tbody tr th {\n",
       "        vertical-align: top;\n",
       "    }\n",
       "\n",
       "    .dataframe thead th {\n",
       "        text-align: right;\n",
       "    }\n",
       "</style>\n",
       "<table border=\"1\" class=\"dataframe\">\n",
       "  <thead>\n",
       "    <tr style=\"text-align: right;\">\n",
       "      <th></th>\n",
       "      <th>age</th>\n",
       "      <th>sex</th>\n",
       "      <th>bmi</th>\n",
       "      <th>children</th>\n",
       "      <th>smoker</th>\n",
       "      <th>region</th>\n",
       "      <th>charges</th>\n",
       "      <th>region (N/S)</th>\n",
       "      <th>region (E/W)</th>\n",
       "      <th>bmi category</th>\n",
       "    </tr>\n",
       "  </thead>\n",
       "  <tbody>\n",
       "    <tr>\n",
       "      <th>0</th>\n",
       "      <td>19</td>\n",
       "      <td>female</td>\n",
       "      <td>27.900</td>\n",
       "      <td>0</td>\n",
       "      <td>yes</td>\n",
       "      <td>southwest</td>\n",
       "      <td>16884.92400</td>\n",
       "      <td>south</td>\n",
       "      <td>west</td>\n",
       "      <td>overweight</td>\n",
       "    </tr>\n",
       "    <tr>\n",
       "      <th>1</th>\n",
       "      <td>18</td>\n",
       "      <td>male</td>\n",
       "      <td>33.770</td>\n",
       "      <td>1</td>\n",
       "      <td>no</td>\n",
       "      <td>southeast</td>\n",
       "      <td>1725.55230</td>\n",
       "      <td>south</td>\n",
       "      <td>east</td>\n",
       "      <td>obese</td>\n",
       "    </tr>\n",
       "    <tr>\n",
       "      <th>2</th>\n",
       "      <td>28</td>\n",
       "      <td>male</td>\n",
       "      <td>33.000</td>\n",
       "      <td>3</td>\n",
       "      <td>no</td>\n",
       "      <td>southeast</td>\n",
       "      <td>4449.46200</td>\n",
       "      <td>south</td>\n",
       "      <td>east</td>\n",
       "      <td>obese</td>\n",
       "    </tr>\n",
       "    <tr>\n",
       "      <th>3</th>\n",
       "      <td>33</td>\n",
       "      <td>male</td>\n",
       "      <td>22.705</td>\n",
       "      <td>0</td>\n",
       "      <td>no</td>\n",
       "      <td>northwest</td>\n",
       "      <td>21984.47061</td>\n",
       "      <td>north</td>\n",
       "      <td>west</td>\n",
       "      <td>healthy weight</td>\n",
       "    </tr>\n",
       "    <tr>\n",
       "      <th>4</th>\n",
       "      <td>32</td>\n",
       "      <td>male</td>\n",
       "      <td>28.880</td>\n",
       "      <td>0</td>\n",
       "      <td>no</td>\n",
       "      <td>northwest</td>\n",
       "      <td>3866.85520</td>\n",
       "      <td>north</td>\n",
       "      <td>west</td>\n",
       "      <td>overweight</td>\n",
       "    </tr>\n",
       "    <tr>\n",
       "      <th>...</th>\n",
       "      <td>...</td>\n",
       "      <td>...</td>\n",
       "      <td>...</td>\n",
       "      <td>...</td>\n",
       "      <td>...</td>\n",
       "      <td>...</td>\n",
       "      <td>...</td>\n",
       "      <td>...</td>\n",
       "      <td>...</td>\n",
       "      <td>...</td>\n",
       "    </tr>\n",
       "    <tr>\n",
       "      <th>1333</th>\n",
       "      <td>50</td>\n",
       "      <td>male</td>\n",
       "      <td>30.970</td>\n",
       "      <td>3</td>\n",
       "      <td>no</td>\n",
       "      <td>northwest</td>\n",
       "      <td>10600.54830</td>\n",
       "      <td>north</td>\n",
       "      <td>west</td>\n",
       "      <td>obese</td>\n",
       "    </tr>\n",
       "    <tr>\n",
       "      <th>1334</th>\n",
       "      <td>18</td>\n",
       "      <td>female</td>\n",
       "      <td>31.920</td>\n",
       "      <td>0</td>\n",
       "      <td>no</td>\n",
       "      <td>northeast</td>\n",
       "      <td>2205.98080</td>\n",
       "      <td>north</td>\n",
       "      <td>east</td>\n",
       "      <td>obese</td>\n",
       "    </tr>\n",
       "    <tr>\n",
       "      <th>1335</th>\n",
       "      <td>18</td>\n",
       "      <td>female</td>\n",
       "      <td>36.850</td>\n",
       "      <td>0</td>\n",
       "      <td>no</td>\n",
       "      <td>southeast</td>\n",
       "      <td>1629.83350</td>\n",
       "      <td>south</td>\n",
       "      <td>east</td>\n",
       "      <td>obese</td>\n",
       "    </tr>\n",
       "    <tr>\n",
       "      <th>1336</th>\n",
       "      <td>21</td>\n",
       "      <td>female</td>\n",
       "      <td>25.800</td>\n",
       "      <td>0</td>\n",
       "      <td>no</td>\n",
       "      <td>southwest</td>\n",
       "      <td>2007.94500</td>\n",
       "      <td>south</td>\n",
       "      <td>west</td>\n",
       "      <td>overweight</td>\n",
       "    </tr>\n",
       "    <tr>\n",
       "      <th>1337</th>\n",
       "      <td>61</td>\n",
       "      <td>female</td>\n",
       "      <td>29.070</td>\n",
       "      <td>0</td>\n",
       "      <td>yes</td>\n",
       "      <td>northwest</td>\n",
       "      <td>29141.36030</td>\n",
       "      <td>north</td>\n",
       "      <td>west</td>\n",
       "      <td>overweight</td>\n",
       "    </tr>\n",
       "  </tbody>\n",
       "</table>\n",
       "<p>1338 rows × 10 columns</p>\n",
       "</div>"
      ],
      "text/plain": [
       "      age     sex     bmi children smoker     region      charges  \\\n",
       "0      19  female  27.900        0    yes  southwest  16884.92400   \n",
       "1      18    male  33.770        1     no  southeast   1725.55230   \n",
       "2      28    male  33.000        3     no  southeast   4449.46200   \n",
       "3      33    male  22.705        0     no  northwest  21984.47061   \n",
       "4      32    male  28.880        0     no  northwest   3866.85520   \n",
       "...   ...     ...     ...      ...    ...        ...          ...   \n",
       "1333   50    male  30.970        3     no  northwest  10600.54830   \n",
       "1334   18  female  31.920        0     no  northeast   2205.98080   \n",
       "1335   18  female  36.850        0     no  southeast   1629.83350   \n",
       "1336   21  female  25.800        0     no  southwest   2007.94500   \n",
       "1337   61  female  29.070        0    yes  northwest  29141.36030   \n",
       "\n",
       "     region (N/S) region (E/W)    bmi category  \n",
       "0           south         west      overweight  \n",
       "1           south         east           obese  \n",
       "2           south         east           obese  \n",
       "3           north         west  healthy weight  \n",
       "4           north         west      overweight  \n",
       "...           ...          ...             ...  \n",
       "1333        north         west           obese  \n",
       "1334        north         east           obese  \n",
       "1335        south         east           obese  \n",
       "1336        south         west      overweight  \n",
       "1337        north         west      overweight  \n",
       "\n",
       "[1338 rows x 10 columns]"
      ]
     },
     "execution_count": 3,
     "metadata": {},
     "output_type": "execute_result"
    }
   ],
   "source": [
    "dtypes_dict = {'age':'Int8', \n",
    "               'sex':'category', \n",
    "               'smoker':'category',\n",
    "               'children': 'category',\n",
    "               'region':'category', \n",
    "               'region (N/S)':'category', \n",
    "               'region (E/W)':'category', \n",
    "               'bmi category': 'category'}\n",
    "\n",
    "df = pd.read_csv('../data/insurance_cleaned.csv', dtype=dtypes_dict)\n",
    "df"
   ]
  },
  {
   "cell_type": "markdown",
   "id": "a05a5fc8",
   "metadata": {},
   "source": [
    "I know that there are no null values in this dataset, but I can check that the data in each column make sense. For the categorical values I can check what the unique values are to see if there is anything that shouldn't be there. In the numerical columns I can use boxplots to check for outliers.\n",
    "\n",
    "I checked the children column in the previous notebook."
   ]
  },
  {
   "cell_type": "code",
   "execution_count": 47,
   "id": "abf823c9",
   "metadata": {},
   "outputs": [
    {
     "data": {
      "text/plain": [
       "['female', 'male']\n",
       "Categories (2, object): ['female', 'male']"
      ]
     },
     "execution_count": 47,
     "metadata": {},
     "output_type": "execute_result"
    }
   ],
   "source": [
    "df['sex'].unique()"
   ]
  },
  {
   "cell_type": "code",
   "execution_count": 48,
   "id": "568f2bf1",
   "metadata": {},
   "outputs": [
    {
     "data": {
      "text/plain": [
       "['yes', 'no']\n",
       "Categories (2, object): ['no', 'yes']"
      ]
     },
     "execution_count": 48,
     "metadata": {},
     "output_type": "execute_result"
    }
   ],
   "source": [
    "df['smoker'].unique()"
   ]
  },
  {
   "cell_type": "code",
   "execution_count": 49,
   "id": "ee16890e",
   "metadata": {},
   "outputs": [
    {
     "data": {
      "text/plain": [
       "['southwest', 'southeast', 'northwest', 'northeast']\n",
       "Categories (4, object): ['northeast', 'northwest', 'southeast', 'southwest']"
      ]
     },
     "execution_count": 49,
     "metadata": {},
     "output_type": "execute_result"
    }
   ],
   "source": [
    "df['region'].unique()"
   ]
  },
  {
   "cell_type": "markdown",
   "id": "502de821",
   "metadata": {},
   "source": [
    "### Boxplots for numerical values"
   ]
  },
  {
   "cell_type": "code",
   "execution_count": 50,
   "id": "81312259",
   "metadata": {},
   "outputs": [
    {
     "data": {
      "image/png": "[encoded data removed]",
      "text/plain": [
       "<Figure size 1000x600 with 3 Axes>"
      ]
     },
     "metadata": {},
     "output_type": "display_data"
    }
   ],
   "source": [
    "fig, ax = plt.subplots(nrows=1, ncols=3, figsize=(10, 6))\n",
    "\n",
    "ax[0].boxplot(df['age'], labels=['Age'])\n",
    "ax[1].boxplot(df['bmi'], labels=['BMI'])\n",
    "ax[2].boxplot(df['charges'], labels=['Charges'])\n",
    "plt.show()"
   ]
  },
  {
   "cell_type": "markdown",
   "id": "1850c6c5",
   "metadata": {},
   "source": [
    "The large amout of outliers in both BMI and charges represent real world examples of people who are either overweight or being charged a large amount for their insurance, maybe because they smoke or because they have a long term cronic illness. For this reason the outliers are likely not to be mistakes but interesting values in the dataset. "
   ]
  },
  {
   "cell_type": "markdown",
   "id": "762ea2fb",
   "metadata": {},
   "source": [
    "### Descriptive Statistics: Display average insurance charges by age, gender, and region.\n",
    "\n",
    "I am going to group the results by age, gender and region to get the average results for each one, then plot the results in bar graphs"
   ]
  },
  {
   "cell_type": "code",
   "execution_count": null,
   "id": "cfb002aa",
   "metadata": {},
   "outputs": [
    {
     "data": {
      "application/vnd.microsoft.datawrangler.viewer.v0+json": {
       "columns": [
        {
         "name": "age",
         "rawType": "Int8",
         "type": "integer"
        },
        {
         "name": "charges",
         "rawType": "float64",
         "type": "float"
        }
       ],
       "ref": "86427462-a093-451a-98d9-5f0a327b5a74",
       "rows": [
        [
         "18",
         "7086.22"
        ],
        [
         "19",
         "9747.91"
        ],
        [
         "20",
         "10159.7"
        ],
        [
         "21",
         "4730.46"
        ],
        [
         "22",
         "10012.93"
        ]
       ],
       "shape": {
        "columns": 1,
        "rows": 5
       }
      },
      "text/plain": [
       "age\n",
       "18     7086.22\n",
       "19     9747.91\n",
       "20    10159.70\n",
       "21     4730.46\n",
       "22    10012.93\n",
       "Name: charges, dtype: float64"
      ]
     },
     "execution_count": 6,
     "metadata": {},
     "output_type": "execute_result"
    }
   ],
   "source": [
    "#data grouped by age then mean calculated\n",
    "df_group_age = df.groupby(by=['age'])['charges'].mean().round(2)\n",
    "df_group_age.head()"
   ]
  },
  {
   "cell_type": "code",
   "execution_count": null,
   "id": "cdd48fc8",
   "metadata": {},
   "outputs": [
    {
     "name": "stderr",
     "output_type": "stream",
     "text": [
      "C:\\Users\\tb975\\AppData\\Local\\Temp\\ipykernel_4792\\2218730196.py:1: FutureWarning: The default of observed=False is deprecated and will be changed to True in a future version of pandas. Pass observed=False to retain current behavior or observed=True to adopt the future default and silence this warning.\n",
      "  df_group_sex = df.groupby(by=['sex'])['charges'].mean().round(2)\n"
     ]
    },
    {
     "data": {
      "application/vnd.microsoft.datawrangler.viewer.v0+json": {
       "columns": [
        {
         "name": "sex",
         "rawType": "category",
         "type": "unknown"
        },
        {
         "name": "charges",
         "rawType": "float64",
         "type": "float"
        }
       ],
       "ref": "21c89c8c-2e77-46d4-bae1-ee9d06cbab3e",
       "rows": [
        [
         "female",
         "12569.58"
        ],
        [
         "male",
         "13956.75"
        ]
       ],
       "shape": {
        "columns": 1,
        "rows": 2
       }
      },
      "text/plain": [
       "sex\n",
       "female    12569.58\n",
       "male      13956.75\n",
       "Name: charges, dtype: float64"
      ]
     },
     "execution_count": 7,
     "metadata": {},
     "output_type": "execute_result"
    }
   ],
   "source": [
    "#data grouped by sex then the mean is calculated\n",
    "df_group_sex = df.groupby(by=['sex'])['charges'].mean().round(2)\n",
    "df_group_sex.head()"
   ]
  },
  {
   "cell_type": "code",
   "execution_count": null,
   "id": "7761fb67",
   "metadata": {},
   "outputs": [
    {
     "name": "stderr",
     "output_type": "stream",
     "text": [
      "C:\\Users\\tb975\\AppData\\Local\\Temp\\ipykernel_4792\\2435494198.py:1: FutureWarning: The default of observed=False is deprecated and will be changed to True in a future version of pandas. Pass observed=False to retain current behavior or observed=True to adopt the future default and silence this warning.\n",
      "  df_group_region = df.groupby(by=['region'])['charges'].mean().round(2)\n"
     ]
    },
    {
     "data": {
      "application/vnd.microsoft.datawrangler.viewer.v0+json": {
       "columns": [
        {
         "name": "region",
         "rawType": "category",
         "type": "unknown"
        },
        {
         "name": "charges",
         "rawType": "float64",
         "type": "float"
        }
       ],
       "ref": "25952632-c287-4d0c-8970-83d578ac08cd",
       "rows": [
        [
         "northeast",
         "13406.38"
        ],
        [
         "northwest",
         "12417.58"
        ],
        [
         "southeast",
         "14735.41"
        ],
        [
         "southwest",
         "12346.94"
        ]
       ],
       "shape": {
        "columns": 1,
        "rows": 4
       }
      },
      "text/plain": [
       "region\n",
       "northeast    13406.38\n",
       "northwest    12417.58\n",
       "southeast    14735.41\n",
       "southwest    12346.94\n",
       "Name: charges, dtype: float64"
      ]
     },
     "execution_count": 4,
     "metadata": {},
     "output_type": "execute_result"
    }
   ],
   "source": [
    "#Grouped by region\n",
    "df_group_region = df.groupby(by=['region'])['charges'].mean().round(2)\n",
    "df_group_region\n"
   ]
  }
 ],
 "metadata": {
  "kernelspec": {
   "display_name": ".venv",
   "language": "python",
   "name": "python3"
  },
  "language_info": {
   "codemirror_mode": {
    "name": "ipython",
    "version": 3
   },
   "file_extension": ".py",
   "mimetype": "text/x-python",
   "name": "python",
   "nbconvert_exporter": "python",
   "pygments_lexer": "ipython3",
   "version": "3.12.8"
  }
 },
 "nbformat": 4,
 "nbformat_minor": 5
}
